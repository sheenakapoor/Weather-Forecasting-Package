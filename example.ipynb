{
 "cells": [
  {
   "cell_type": "markdown",
   "source": "# Weather Forecasting",
   "metadata": {
    "cell_id": "a89219e539c94b2aabd1e9fecbaaa75a",
    "tags": [],
    "deepnote_cell_type": "markdown",
    "deepnote_cell_height": 82
   }
  },
  {
   "cell_type": "markdown",
   "source": "### 1. Installing the package",
   "metadata": {
    "cell_id": "bd7e7671db6e44799a50e048d4e7f7a2",
    "tags": [],
    "deepnote_cell_type": "markdown",
    "deepnote_cell_height": 62
   }
  },
  {
   "cell_type": "code",
   "metadata": {
    "cell_id": "dd5acad330984b999edbdc8e147f31f5",
    "tags": [],
    "deepnote_to_be_reexecuted": false,
    "source_hash": "74dde07",
    "execution_start": 1651127230720,
    "execution_millis": 9058,
    "owner_user_id": "83071122-e04a-424f-b5ca-43884aa406e7",
    "deepnote_cell_type": "code",
    "deepnote_cell_height": 773
   },
   "source": "# !pip install src/\n\n#Another way of installing the package would be as follows:\n\n!pip install \"git+https://github.com/S22-06682/project-sheenakapoor.git#egg=subdir&subdirectory=src\"",
   "execution_count": 72,
   "outputs": [
    {
     "name": "stdout",
     "text": "Collecting subdir\n  Cloning https://github.com/S22-06682/project-sheenakapoor.git to /tmp/pip-install-s3uf1vg8/subdir\n  Running command git clone -q https://github.com/S22-06682/project-sheenakapoor.git /tmp/pip-install-s3uf1vg8/subdir\n\u001b[33m  WARNING: Generating metadata for package subdir produced metadata for project name weather. Fix your #egg=subdir fragments.\u001b[0m\nRequirement already satisfied (use --upgrade to upgrade): weather from git+https://github.com/S22-06682/project-sheenakapoor.git#egg=subdir&subdirectory=src in /root/venv/lib/python3.7/site-packages\nRequirement already satisfied: requests in /shared-libs/python3.7/py/lib/python3.7/site-packages (from weather) (2.27.1)\nRequirement already satisfied: charset-normalizer~=2.0.0; python_version >= \"3\" in /shared-libs/python3.7/py-core/lib/python3.7/site-packages (from requests->weather) (2.0.12)\nRequirement already satisfied: idna<4,>=2.5; python_version >= \"3\" in /shared-libs/python3.7/py-core/lib/python3.7/site-packages (from requests->weather) (3.3)\nRequirement already satisfied: urllib3<1.27,>=1.21.1 in /shared-libs/python3.7/py/lib/python3.7/site-packages (from requests->weather) (1.26.9)\nRequirement already satisfied: certifi>=2017.4.17 in /shared-libs/python3.7/py/lib/python3.7/site-packages (from requests->weather) (2021.10.8)\nBuilding wheels for collected packages: weather, weather\n  Building wheel for weather (setup.py) ... \u001b[?25ldone\n\u001b[?25h  Created wheel for weather: filename=weather-0.0.1-py3-none-any.whl size=30835 sha256=e0b3ba4ef720294e04da34bdb9832b2a493ca5e5d1062e2532a2ea8b2d1e7f6c\n  Stored in directory: /tmp/pip-ephem-wheel-cache-8ml2okta/wheels/96/8f/d6/90931f23306f9997c9042e9472d7d9e481418d3e3177f24d38\n  Building wheel for weather (setup.py) ... \u001b[?25lerror\n\u001b[31m  ERROR: Command errored out with exit status 1:\n   command: /root/venv/bin/python -u -c 'import sys, setuptools, tokenize; sys.argv[0] = '\"'\"'/tmp/pip-install-s3uf1vg8/subdir/setup.py'\"'\"'; __file__='\"'\"'/tmp/pip-install-s3uf1vg8/subdir/setup.py'\"'\"';f=getattr(tokenize, '\"'\"'open'\"'\"', open)(__file__);code=f.read().replace('\"'\"'\\r\\n'\"'\"', '\"'\"'\\n'\"'\"');f.close();exec(compile(code, __file__, '\"'\"'exec'\"'\"'))' bdist_wheel -d /tmp/pip-wheel-p6_ueh9y\n       cwd: /tmp/pip-install-s3uf1vg8/subdir/\n  Complete output (5 lines):\n  Traceback (most recent call last):\n    File \"<string>\", line 1, in <module>\n    File \"/usr/local/lib/python3.7/tokenize.py\", line 447, in open\n      buffer = _builtin_open(filename, 'rb')\n  FileNotFoundError: [Errno 2] No such file or directory: '/tmp/pip-install-s3uf1vg8/subdir/setup.py'\n  ----------------------------------------\u001b[0m\n\u001b[31m  ERROR: Failed building wheel for weather\u001b[0m\n\u001b[?25h  Running setup.py clean for weather\n\u001b[31m  ERROR: Command errored out with exit status 1:\n   command: /root/venv/bin/python -u -c 'import sys, setuptools, tokenize; sys.argv[0] = '\"'\"'/tmp/pip-install-s3uf1vg8/subdir/setup.py'\"'\"'; __file__='\"'\"'/tmp/pip-install-s3uf1vg8/subdir/setup.py'\"'\"';f=getattr(tokenize, '\"'\"'open'\"'\"', open)(__file__);code=f.read().replace('\"'\"'\\r\\n'\"'\"', '\"'\"'\\n'\"'\"');f.close();exec(compile(code, __file__, '\"'\"'exec'\"'\"'))' clean --all\n       cwd: /tmp/pip-install-s3uf1vg8/subdir\n  Complete output (5 lines):\n  Traceback (most recent call last):\n    File \"<string>\", line 1, in <module>\n    File \"/usr/local/lib/python3.7/tokenize.py\", line 447, in open\n      buffer = _builtin_open(filename, 'rb')\n  FileNotFoundError: [Errno 2] No such file or directory: '/tmp/pip-install-s3uf1vg8/subdir/setup.py'\n  ----------------------------------------\u001b[0m\n\u001b[31m  ERROR: Failed cleaning build dir for weather\u001b[0m\nSuccessfully built weather\nFailed to build weather\n\u001b[33mWARNING: You are using pip version 20.1.1; however, version 22.0.4 is available.\nYou should consider upgrading via the '/root/venv/bin/python -m pip install --upgrade pip' command.\u001b[0m\n",
     "output_type": "stream"
    }
   ]
  },
  {
   "cell_type": "markdown",
   "source": "The user has to simply import the weather forecasting module like below and give an input for the zipcode.\nThe forecast function takes the input as an argument and obtains the data for current temperature (F), feels like temperature (F) and weather description. Then it converts the temperatures to Celsius and Displays an emoticon based on the range the Celsius temperature falls into. \nFollowing that, a forecast for the next three hours is provided.",
   "metadata": {
    "cell_id": "112f580dbd02402f8e54b6b43f5ccd64",
    "tags": [],
    "deepnote_cell_type": "markdown",
    "deepnote_cell_height": 141.96875
   }
  },
  {
   "cell_type": "code",
   "metadata": {
    "tags": [],
    "cell_id": "9acf9580-a457-4c9f-b038-7b9e09a4e81a",
    "deepnote_to_be_reexecuted": false,
    "source_hash": "821f148f",
    "execution_start": 1651127048764,
    "execution_millis": 4402,
    "deepnote_cell_type": "code",
    "deepnote_cell_height": 263.921875
   },
   "source": "from weatherfc.weather import forecast\n\nzipcode = input(\"User's US Post Office ZIP Code: \")\nforecast(zipcode)",
   "execution_count": 71,
   "outputs": [
    {
     "name": "stdout",
     "text": "User's US Post Office ZIP Code: 15213 \n\n",
     "output_type": "stream"
    },
    {
     "output_type": "error",
     "ename": "TypeError",
     "evalue": "'NoneType' object is not subscriptable",
     "traceback": [
      "\u001b[0;31m---------------------------------------------------------------------------\u001b[0m",
      "\u001b[0;31mTypeError\u001b[0m                                 Traceback (most recent call last)",
      "\u001b[0;32m<ipython-input-71-1fe7a52b7285>\u001b[0m in \u001b[0;36m<module>\u001b[0;34m\u001b[0m\n\u001b[1;32m      2\u001b[0m \u001b[0;34m\u001b[0m\u001b[0m\n\u001b[1;32m      3\u001b[0m \u001b[0mzipcode\u001b[0m \u001b[0;34m=\u001b[0m \u001b[0minput\u001b[0m\u001b[0;34m(\u001b[0m\u001b[0;34m\"User's US Post Office ZIP Code: \"\u001b[0m\u001b[0;34m)\u001b[0m\u001b[0;34m\u001b[0m\u001b[0;34m\u001b[0m\u001b[0m\n\u001b[0;32m----> 4\u001b[0;31m \u001b[0mforecast\u001b[0m\u001b[0;34m(\u001b[0m\u001b[0mzipcode\u001b[0m\u001b[0;34m)\u001b[0m\u001b[0;34m\u001b[0m\u001b[0;34m\u001b[0m\u001b[0m\n\u001b[0m",
      "\u001b[0;32m~/venv/lib/python3.7/site-packages/weatherfc/weather.py\u001b[0m in \u001b[0;36mforecast\u001b[0;34m(zipcode)\u001b[0m\n\u001b[1;32m     42\u001b[0m     \u001b[0;31m# Assigning current condition key to a variable and indexing it\u001b[0m\u001b[0;34m\u001b[0m\u001b[0;34m\u001b[0m\u001b[0;34m\u001b[0m\u001b[0m\n\u001b[1;32m     43\u001b[0m     \u001b[0mcurrent_condition\u001b[0m \u001b[0;34m=\u001b[0m \u001b[0mresponse\u001b[0m\u001b[0;34m[\u001b[0m\u001b[0;34m\"current_condition\"\u001b[0m\u001b[0;34m]\u001b[0m\u001b[0;34m[\u001b[0m\u001b[0;36m0\u001b[0m\u001b[0;34m]\u001b[0m\u001b[0;34m\u001b[0m\u001b[0;34m\u001b[0m\u001b[0m\n\u001b[0;32m---> 44\u001b[0;31m \u001b[0;34m\u001b[0m\u001b[0m\n\u001b[0m\u001b[1;32m     45\u001b[0m     \u001b[0;31m# Assigning variables and indexing to get Current Temperature,\u001b[0m\u001b[0;34m\u001b[0m\u001b[0;34m\u001b[0m\u001b[0;34m\u001b[0m\u001b[0m\n\u001b[1;32m     46\u001b[0m     \u001b[0;31m# Feels-Like Temperature and Weather Description for user's ZIP Code\u001b[0m\u001b[0;34m\u001b[0m\u001b[0;34m\u001b[0m\u001b[0;34m\u001b[0m\u001b[0m\n",
      "\u001b[0;31mTypeError\u001b[0m: 'NoneType' object is not subscriptable"
     ]
    }
   ]
  },
  {
   "cell_type": "markdown",
   "source": "<a style='text-decoration:none;line-height:16px;display:flex;color:#5B5B62;padding:10px;justify-content:end;' href='https://deepnote.com?utm_source=created-in-deepnote-cell&projectId=9f119166-fb10-4b83-9e96-d148b4f2210a' target=\"_blank\">\n<img alt='Created in deepnote.com' style='display:inline;max-height:16px;margin:0px;margin-right:7.5px;' src='data:image/svg+xml;base64,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' > </img>\nCreated in <span style='font-weight:600;margin-left:4px;'>Deepnote</span></a>",
   "metadata": {
    "tags": [],
    "created_in_deepnote_cell": true,
    "deepnote_cell_type": "markdown"
   }
  }
 ],
 "nbformat": 4,
 "nbformat_minor": 2,
 "metadata": {
  "orig_nbformat": 2,
  "deepnote": {
   "is_reactive": false
  },
  "deepnote_notebook_id": "33f15779-41bb-47fe-813d-71ceac6a0cde",
  "deepnote_execution_queue": []
 }
}