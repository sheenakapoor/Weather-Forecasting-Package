{
 "cells": [
  {
   "cell_type": "markdown",
   "source": "# Weather Forecasting",
   "metadata": {
    "cell_id": "a89219e539c94b2aabd1e9fecbaaa75a",
    "tags": [],
    "deepnote_cell_type": "markdown",
    "deepnote_cell_height": 82
   }
  },
  {
   "cell_type": "markdown",
   "source": "### Installing the package",
   "metadata": {
    "cell_id": "bd7e7671db6e44799a50e048d4e7f7a2",
    "tags": [],
    "deepnote_cell_type": "markdown",
    "deepnote_cell_height": 114
   }
  },
  {
   "cell_type": "code",
   "metadata": {
    "cell_id": "dd5acad330984b999edbdc8e147f31f5",
    "tags": [],
    "deepnote_to_be_reexecuted": false,
    "source_hash": "dd1a6ff6",
    "execution_start": 1651127828498,
    "execution_millis": 6139,
    "deepnote_cell_type": "code",
    "deepnote_cell_height": 439.625
   },
   "source": "!pip install src/",
   "execution_count": 1,
   "outputs": [
    {
     "name": "stdout",
     "text": "Processing ./src\nRequirement already satisfied: requests in /shared-libs/python3.7/py/lib/python3.7/site-packages (from weather==0.0.1) (2.27.1)\nRequirement already satisfied: certifi>=2017.4.17 in /shared-libs/python3.7/py/lib/python3.7/site-packages (from requests->weather==0.0.1) (2021.10.8)\nRequirement already satisfied: urllib3<1.27,>=1.21.1 in /shared-libs/python3.7/py/lib/python3.7/site-packages (from requests->weather==0.0.1) (1.26.9)\nRequirement already satisfied: idna<4,>=2.5; python_version >= \"3\" in /shared-libs/python3.7/py-core/lib/python3.7/site-packages (from requests->weather==0.0.1) (3.3)\nRequirement already satisfied: charset-normalizer~=2.0.0; python_version >= \"3\" in /shared-libs/python3.7/py-core/lib/python3.7/site-packages (from requests->weather==0.0.1) (2.0.12)\nBuilding wheels for collected packages: weather\n  Building wheel for weather (setup.py) ... \u001b[?25ldone\n\u001b[?25h  Created wheel for weather: filename=weather-0.0.1-py3-none-any.whl size=30835 sha256=9f6ff027db23c312f0dc7d9f797afebfed4cc6fe2def1da26d223e8e59f60a56\n  Stored in directory: /tmp/pip-ephem-wheel-cache-ttqxo_hv/wheels/a3/08/94/735e7b250bb311fa920b57ae76c228311b8f74d29c99073670\nSuccessfully built weather\nInstalling collected packages: weather\nSuccessfully installed weather-0.0.1\n\u001b[33mWARNING: You are using pip version 20.1.1; however, version 22.0.4 is available.\nYou should consider upgrading via the '/root/venv/bin/python -m pip install --upgrade pip' command.\u001b[0m\n",
     "output_type": "stream"
    }
   ]
  },
  {
   "cell_type": "markdown",
   "source": "The user has to simply import the weather forecasting module like below and give an input for the zipcode.\nThe forecast function takes the input as an argument and obtains the data for current temperature (F), feels like temperature (F) and weather description. Then it converts the temperatures to Celsius and Displays an emoticon based on the range the Celsius temperature falls into. \nFollowing that, a forecast for the next three hours is provided.",
   "metadata": {
    "cell_id": "112f580dbd02402f8e54b6b43f5ccd64",
    "tags": [],
    "owner_user_id": "83071122-e04a-424f-b5ca-43884aa406e7",
    "deepnote_cell_type": "markdown",
    "deepnote_cell_height": 141.96875
   }
  },
  {
   "cell_type": "markdown",
   "source": "### Using the package (with examples of valid, invalid input)",
   "metadata": {
    "cell_id": "09c15f1ad4c94750b65d4386ac0565d4",
    "tags": [],
    "deepnote_cell_type": "markdown",
    "deepnote_cell_height": 62
   }
  },
  {
   "cell_type": "markdown",
   "source": "This code cell shows the output when the user inputs a valid zipcode:",
   "metadata": {
    "cell_id": "2d905b262cad41b696262125f3403464",
    "tags": [],
    "deepnote_cell_type": "markdown",
    "deepnote_cell_height": 52.390625
   }
  },
  {
   "cell_type": "code",
   "metadata": {
    "tags": [],
    "cell_id": "9acf9580-a457-4c9f-b038-7b9e09a4e81a",
    "deepnote_to_be_reexecuted": false,
    "source_hash": "821f148f",
    "execution_start": 1651127834642,
    "execution_millis": 8082,
    "deepnote_cell_type": "code",
    "deepnote_cell_height": 483.6875,
    "deepnote_output_heights": [
     174.78125
    ]
   },
   "source": "from weatherfc.weather import forecast\n\nzipcode = input(\"User's US Post Office ZIP Code: \")\nforecast(zipcode)",
   "execution_count": 2,
   "outputs": [
    {
     "name": "stdout",
     "text": "User's US Post Office ZIP Code: 15213 \n\nThe weather conditions in your location are displayed below:\n        Current Temperature: 32°F\n        Feels like Temperature: 26°F\n        Weather Description: Partly cloudy \n \nThe Current Temperature in Celsius is 0.0°C\nThe Feels-Like Temperature in Celsius is -3.3°C\n        \nToday's weather in your location: ❄️ 0.0°C \n\nWeather forecast for three hours from now is as follows:\n        Current Temperature: 29°F = -2°C\n        Feels like Temperature: 22°F = -5°C\n        Weather Description: Clear \n\n",
     "output_type": "stream"
    }
   ]
  },
  {
   "cell_type": "markdown",
   "source": "This code cell shows the output when the user inputs an incorrect zipcode:",
   "metadata": {
    "cell_id": "343e94d3887446348865977800ab7e5b",
    "tags": [],
    "deepnote_cell_type": "markdown",
    "deepnote_cell_height": 52.390625
   }
  },
  {
   "cell_type": "code",
   "source": "from weatherfc.weather import forecast\n\nzipcode = input(\"User's US Post Office ZIP Code: \")\nforecast(zipcode)",
   "metadata": {
    "cell_id": "87a81d10b6ab43be9d56b4c02a7a56e2",
    "tags": [],
    "deepnote_to_be_reexecuted": false,
    "source_hash": "821f148f",
    "execution_start": 1651134439472,
    "execution_millis": 9025,
    "deepnote_cell_type": "code",
    "deepnote_cell_height": 283.78125
   },
   "outputs": [
    {
     "name": "stdout",
     "text": "User's US Post Office ZIP Code: 11111 \n\nInvalid Zip Code, Try again\n",
     "output_type": "stream"
    },
    {
     "output_type": "error",
     "ename": "SystemExit",
     "evalue": "",
     "traceback": [
      "An exception has occurred, use %tb to see the full traceback.\n",
      "\u001b[0;31mSystemExit\u001b[0m\n"
     ],
     "text": "User's US Post Office ZIP Code: 11111 \n\nInvalid Zip Code, Try again\n/shared-libs/python3.7/py-core/lib/python3.7/site-packages/IPython/core/interactiveshell.py:3532: UserWarning: To exit: use 'exit', 'quit', or Ctrl-D.\n  warn(\"To exit: use 'exit', 'quit', or Ctrl-D.\", stacklevel=1)\n"
    }
   ],
   "execution_count": 4
  },
  {
   "cell_type": "markdown",
   "source": "This code cell shows the direct input of zipcode by user giving an output, without requiring additional lines of code.",
   "metadata": {
    "cell_id": "e32c52c209f445b8955d5f564a1059cc",
    "tags": [],
    "deepnote_cell_type": "markdown",
    "deepnote_cell_height": 74.78125
   }
  },
  {
   "cell_type": "code",
   "source": "import weatherfc.example_weather",
   "metadata": {
    "cell_id": "f2b36425ba404304be15363a9a8d02fa",
    "tags": [],
    "deepnote_to_be_reexecuted": false,
    "source_hash": "dbd363e9",
    "execution_start": 1651134363700,
    "execution_millis": 25484,
    "deepnote_cell_type": "code",
    "deepnote_cell_height": 429.6875
   },
   "outputs": [
    {
     "name": "stdout",
     "text": "User's US Post Office ZIP Code: 96162 \n\nThe weather conditions in your location are displayed below:\n        Current Temperature: 39°F\n        Feels like Temperature: 37°F\n        Weather Description: Clear \n \nThe Current Temperature in Celsius is 3.9°C\nThe Feels-Like Temperature in Celsius is 2.8°C\n        \nToday's weather in your location: ☁️ 3.9°C \n\nWeather forecast for three hours from now is as follows:\n        Current Temperature: 29°F = -2°C\n        Feels like Temperature: 24°F = -5°C\n        Weather Description: Partly cloudy \n\n",
     "output_type": "stream"
    }
   ],
   "execution_count": 3
  },
  {
   "cell_type": "markdown",
   "source": "<a style='text-decoration:none;line-height:16px;display:flex;color:#5B5B62;padding:10px;justify-content:end;' href='https://deepnote.com?utm_source=created-in-deepnote-cell&projectId=9f119166-fb10-4b83-9e96-d148b4f2210a' target=\"_blank\">\n<img alt='Created in deepnote.com' style='display:inline;max-height:16px;margin:0px;margin-right:7.5px;' src='data:image/svg+xml;base64,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' > </img>\nCreated in <span style='font-weight:600;margin-left:4px;'>Deepnote</span></a>",
   "metadata": {
    "tags": [],
    "created_in_deepnote_cell": true,
    "deepnote_cell_type": "markdown"
   }
  }
 ],
 "nbformat": 4,
 "nbformat_minor": 2,
 "metadata": {
  "orig_nbformat": 2,
  "deepnote": {
   "is_reactive": false
  },
  "deepnote_notebook_id": "33f15779-41bb-47fe-813d-71ceac6a0cde",
  "deepnote_execution_queue": []
 }
}